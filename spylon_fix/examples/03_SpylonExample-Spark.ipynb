{
 "cells": [
  {
   "cell_type": "markdown",
   "metadata": {},
   "source": [
    "# Some boilerplate\n",
    "\n",
    "Importing library\n",
    "Setting up spark"
   ]
  },
  {
   "cell_type": "code",
   "execution_count": 1,
   "metadata": {
    "collapsed": true,
    "slideshow": {
     "slide_type": "slide"
    }
   },
   "outputs": [],
   "source": [
    "import spylon\n",
    "import spylon.spark as sp\n",
    "c = sp.SparkConfiguration()\n",
    "c._spark_home = \"/path/to/spark-1.6.2-bin-hadoop2.6\"\n",
    "c.master = [\"local[2]\"]"
   ]
  },
  {
   "cell_type": "markdown",
   "metadata": {},
   "source": [
    "### Tab Completion\n",
    "\n",
    "Spark configuration properties can be tab completed with the spylon Spark Configuration object\n",
    "\n",
    "    c.conf.spark.sql.<TAB>\n",
    "    \n",
    "will bring up a list of valid properties that can be used."
   ]
  },
  {
   "cell_type": "code",
   "execution_count": 2,
   "metadata": {
    "collapsed": false
   },
   "outputs": [
    {
     "data": {
      "text/html": [
       "\n",
       "        <table><tr>\n",
       "            <td>spark.sql.shuffle.partitions</td>\n",
       "            <td>&lt;SET&gt;: 50</td>\n",
       "            <td>200</td>\n",
       "            <td>Configures the number of partitions to use when shuffling data for joins or aggregations.</td>\n",
       "        </tr></table>\n",
       "        "
      ],
      "text/plain": [
       "SparkProperty <SET>: 50 (u'spark.sql.shuffle.partitions', default=u'200', meaning=u'Configures the number of partitions to use when shuffling data for joins or aggregations.')"
      ]
     },
     "execution_count": 2,
     "metadata": {},
     "output_type": "execute_result"
    }
   ],
   "source": [
    "# Tab completion for spark properties\n",
    "c.conf.spark.sql.shuffle.partitions = 50\n",
    "c.conf.spark.sql.shuffle.partitions"
   ]
  },
  {
   "cell_type": "code",
   "execution_count": 3,
   "metadata": {
    "collapsed": false,
    "slideshow": {
     "slide_type": "slide"
    }
   },
   "outputs": [],
   "source": [
    "(sc, sqlContext) = c.sql_context(\"MyApplicationName\")"
   ]
  },
  {
   "cell_type": "markdown",
   "metadata": {},
   "source": [
    "# Progress Bars!"
   ]
  },
  {
   "cell_type": "code",
   "execution_count": 9,
   "metadata": {
    "collapsed": true
   },
   "outputs": [],
   "source": [
    "import time"
   ]
  },
  {
   "cell_type": "code",
   "execution_count": 10,
   "metadata": {
    "collapsed": true
   },
   "outputs": [],
   "source": [
    "def delayed(seconds):\n",
    "    def f(x):\n",
    "        time.sleep(seconds)\n",
    "        return x\n",
    "    return f"
   ]
  },
  {
   "cell_type": "code",
   "execution_count": 11,
   "metadata": {
    "collapsed": false
   },
   "outputs": [
    {
     "data": {
      "text/plain": [
       "[(0, 2),\n",
       " (5, 1),\n",
       " (1, 2),\n",
       " (6, 1),\n",
       " (2, 2),\n",
       " (7, 1),\n",
       " (8, 1),\n",
       " (3, 2),\n",
       " (9, 1),\n",
       " (4, 2)]"
      ]
     },
     "execution_count": 11,
     "metadata": {},
     "output_type": "execute_result"
    }
   ],
   "source": [
    "rdd = sc.parallelize(list(range(10)) + list(range(5)), 5).map(delayed(1))\n",
    "reduced = rdd.map(lambda x: (x, 1)).reduceByKey(lambda x, y: x + y)\n",
    "reduced.map(delayed(1)).collect()"
   ]
  },
  {
   "cell_type": "markdown",
   "metadata": {},
   "source": [
    "## Turning on progressbars is just calling a method to start up a progressbar handler."
   ]
  },
  {
   "cell_type": "code",
   "execution_count": 12,
   "metadata": {
    "collapsed": false
   },
   "outputs": [],
   "source": [
    "sp.start_spark_progress_bar_thread(sc, sleep_time=0.1)"
   ]
  },
  {
   "cell_type": "code",
   "execution_count": 13,
   "metadata": {
    "collapsed": false
   },
   "outputs": [
    {
     "name": "stderr",
     "output_type": "stream",
     "text": [
      "[Stage 2:================>    (4 + 1 / 5 Dur: 08s]\n",
      "[Stage 3:================>    (4 + 1 / 5 Dur: 05s]"
     ]
    },
    {
     "data": {
      "text/plain": [
       "[(0, 2),\n",
       " (5, 1),\n",
       " (1, 2),\n",
       " (6, 1),\n",
       " (2, 2),\n",
       " (7, 1),\n",
       " (8, 1),\n",
       " (3, 2),\n",
       " (9, 1),\n",
       " (4, 2)]"
      ]
     },
     "execution_count": 13,
     "metadata": {},
     "output_type": "execute_result"
    },
    {
     "name": "stderr",
     "output_type": "stream",
     "text": [
      "\r"
     ]
    }
   ],
   "source": [
    "rdd = sc.parallelize(list(range(10)) + list(range(5)), 5).map(delayed(1))\n",
    "reduced = rdd.map(lambda x: (x, 1)).reduceByKey(lambda x, y: x + y)\n",
    "reduced.map(delayed(1)).collect()"
   ]
  }
 ],
 "metadata": {
  "kernelspec": {
   "display_name": "Python 3",
   "language": "python",
   "name": "python3"
  },
  "language_info": {
   "codemirror_mode": {
    "name": "ipython",
    "version": 3
   },
   "file_extension": ".py",
   "mimetype": "text/x-python",
   "name": "python",
   "nbconvert_exporter": "python",
   "pygments_lexer": "ipython3",
   "version": "3.5.2"
  }
 },
 "nbformat": 4,
 "nbformat_minor": 0
}
