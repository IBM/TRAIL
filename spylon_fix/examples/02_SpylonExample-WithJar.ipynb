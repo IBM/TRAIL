{
 "cells": [
  {
   "cell_type": "markdown",
   "metadata": {},
   "source": [
    "# Lets make some simple examples with scala\n",
    "\n",
    "We'll make a very simple scala object compile it and use it in the python process"
   ]
  },
  {
   "cell_type": "code",
   "execution_count": 1,
   "metadata": {
    "collapsed": false
   },
   "outputs": [
    {
     "name": "stdout",
     "output_type": "stream",
     "text": [
      "mkdir: cannot create directory `helloscala': File exists\r\n"
     ]
    }
   ],
   "source": [
    "!mkdir helloscala"
   ]
  },
  {
   "cell_type": "code",
   "execution_count": 2,
   "metadata": {
    "collapsed": false
   },
   "outputs": [
    {
     "name": "stdout",
     "output_type": "stream",
     "text": [
      "Overwriting helloscala/hw.scala\n"
     ]
    }
   ],
   "source": [
    "%%file helloscala/hw.scala\n",
    "\n",
    "object HelloScala\n",
    "{ \n",
    "    def sayHi(): String = \"Hi! from scala\"\n",
    "    def sum(x: Int, y: Int) = x + y\n",
    "}"
   ]
  },
  {
   "cell_type": "markdown",
   "metadata": {},
   "source": [
    "---\n",
    "\n",
    "We'll compile things with sbt (the scala build tool)\n",
    "\n",
    "This makes us a jar that we can load with spark.\n",
    "\n",
    "---"
   ]
  },
  {
   "cell_type": "code",
   "execution_count": 3,
   "metadata": {
    "collapsed": false
   },
   "outputs": [
    {
     "name": "stdout",
     "output_type": "stream",
     "text": [
      "Loading /mnt/data/analytics/mniekerk/scala/sbt/bin/sbt-launch-lib.bash\n",
      "\u001b[0m[\u001b[0minfo\u001b[0m] \u001b[0mSet current project to helloscala (in build file:/mnt/data/analytics/mniekerk/notebooks/spylon/helloscala/)\u001b[0m\n",
      "\u001b[0m[\u001b[0minfo\u001b[0m] \u001b[0mCompiling 1 Scala source to /mnt/data/analytics/mniekerk/notebooks/spylon/helloscala/target/scala-2.10/classes...\u001b[0m\n",
      "\u001b[0m[\u001b[0minfo\u001b[0m] \u001b[0mPackaging /mnt/data/analytics/mniekerk/notebooks/spylon/helloscala/target/scala-2.10/helloscala_2.10-0.1-SNAPSHOT.jar ...\u001b[0m\n",
      "\u001b[0m[\u001b[0minfo\u001b[0m] \u001b[0mDone packaging.\u001b[0m\n",
      "\u001b[0m[\u001b[32msuccess\u001b[0m] \u001b[0mTotal time: 3 s, completed Sep 12, 2016 11:54:09 AM\u001b[0m\n"
     ]
    }
   ],
   "source": [
    "%%bash\n",
    "cd helloscala\n",
    "sbt package"
   ]
  },
  {
   "cell_type": "code",
   "execution_count": 4,
   "metadata": {
    "collapsed": true,
    "slideshow": {
     "slide_type": "slide"
    }
   },
   "outputs": [],
   "source": [
    "import spylon\n",
    "import spylon.spark as sp\n",
    "c = sp.SparkConfiguration()\n",
    "\n",
    "c._spark_home = \"/path/to/spark-1.6.2-bin-hadoop2.6\"\n",
    "c.master = [\"local[4]\"]"
   ]
  },
  {
   "cell_type": "markdown",
   "metadata": {},
   "source": [
    "Add the jar we built previously so that we can import our scala stuff"
   ]
  },
  {
   "cell_type": "code",
   "execution_count": 5,
   "metadata": {
    "collapsed": true
   },
   "outputs": [],
   "source": [
    "c.jars = [\"./helloscala/target/scala-2.10/helloscala_2.10-0.1-SNAPSHOT.jar\"]"
   ]
  },
  {
   "cell_type": "code",
   "execution_count": 7,
   "metadata": {
    "collapsed": true,
    "slideshow": {
     "slide_type": "fragment"
    }
   },
   "outputs": [],
   "source": [
    "(sc, sqlContext) = c.sql_context(\"MyApplicationName\")"
   ]
  },
  {
   "cell_type": "markdown",
   "metadata": {},
   "source": [
    "Lets load our helpers and import the Scala class we just wrote"
   ]
  },
  {
   "cell_type": "code",
   "execution_count": 8,
   "metadata": {
    "collapsed": false,
    "slideshow": {
     "slide_type": "fragment"
    }
   },
   "outputs": [],
   "source": [
    "from spylon.spark.utils import SparkJVMHelpers\n",
    "helpers = SparkJVMHelpers(sc)"
   ]
  },
  {
   "cell_type": "code",
   "execution_count": 9,
   "metadata": {
    "collapsed": true
   },
   "outputs": [],
   "source": [
    "Hi = helpers.import_scala_object(\"HelloScala\")"
   ]
  },
  {
   "cell_type": "code",
   "execution_count": 13,
   "metadata": {
    "collapsed": false
   },
   "outputs": [
    {
     "name": "stdout",
     "output_type": "stream",
     "text": [
      "Help on class HelloScala$ in package HelloScala$:\n",
      "\n",
      "HelloScala$ {\n",
      "|  \n",
      "|  Methods defined here:\n",
      "|  \n",
      "|  sayHi() : String\n",
      "|  \n",
      "|  sum(int, int) : int\n",
      "|  \n",
      "|  ------------------------------------------------------------\n",
      "|  Fields defined here:\n",
      "|  \n",
      "|  MODULE$ : HelloScala$\n",
      "|  \n",
      "|  ------------------------------------------------------------\n",
      "|  Internal classes defined here:\n",
      "|  \n",
      "}\n",
      "\n"
     ]
    }
   ],
   "source": [
    "print Hi.__doc__"
   ]
  },
  {
   "cell_type": "code",
   "execution_count": 10,
   "metadata": {
    "collapsed": false
   },
   "outputs": [
    {
     "data": {
      "text/plain": [
       "u'Hi! from scala'"
      ]
     },
     "execution_count": 10,
     "metadata": {},
     "output_type": "execute_result"
    }
   ],
   "source": [
    "Hi.sayHi()"
   ]
  },
  {
   "cell_type": "code",
   "execution_count": 11,
   "metadata": {
    "collapsed": false
   },
   "outputs": [
    {
     "data": {
      "text/plain": [
       "10"
      ]
     },
     "execution_count": 11,
     "metadata": {},
     "output_type": "execute_result"
    }
   ],
   "source": [
    "Hi.sum(4, 6)"
   ]
  }
 ],
 "metadata": {
  "kernelspec": {
   "display_name": "Python 3",
   "language": "python",
   "name": "python3"
  },
  "language_info": {
   "codemirror_mode": {
    "name": "ipython",
    "version": 3
   },
   "file_extension": ".py",
   "mimetype": "text/x-python",
   "name": "python",
   "nbconvert_exporter": "python",
   "pygments_lexer": "ipython3",
   "version": "3.5.2"
  }
 },
 "nbformat": 4,
 "nbformat_minor": 0
}
